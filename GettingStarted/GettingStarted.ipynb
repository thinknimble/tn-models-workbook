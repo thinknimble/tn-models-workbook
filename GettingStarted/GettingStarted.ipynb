{
 "cells": [
  {
   "cell_type": "markdown",
   "id": "fec5b588",
   "metadata": {},
   "source": [
    "## TN-Models Workbook \n",
    "\n",
    "We will be playing around with tn-models and going through some examples in this sample workbook this library is built with some predefined defaults that exist integrate with django by default, the api can be extended for other frameworks as well. \n"
   ]
  },
  {
   "cell_type": "markdown",
   "id": "d83f7149",
   "metadata": {},
   "source": [
    "## Simplest implementation \n",
    "\n",
    "In this snippet we will be creating a very simple api client using just the defaults associated with the tn-models library by passing in the minimum required variables \n",
    "\n",
    "\n",
    "**client**: an api client e.g axios that is already configured\n",
    "\n",
    "\n",
    "**baseUrl**: this should just be the uri of the route you would like to use, it is appended to the baseurl of the client:\n",
    "\n",
    "\n",
    "    | in theory you could also pass in a full url here instead of configuring it in the client \n",
    "\n",
    "\n",
    "**models**: an object containing shapes of your date types, these will be used for inputs and outputs\n",
    "\n",
    "\n",
    "    - ***entity***: this is the only requiredkey of the models \n",
    " \n",
    "\n"
   ]
  },
  {
   "cell_type": "code",
   "execution_count": 1,
   "id": "f3072cac",
   "metadata": {},
   "outputs": [],
   "source": [
    "/**\n",
    " * \n",
    " * run this for some common utilities to be available in the environemnt \n",
    " * use let if you intend to reassign the variable\n",
    " * \n",
    " */\n",
    "import z from 'npm:zod@3.22.4'\n",
    "import {createApi, } from 'npm:@thinknimble/tn-models@3.1.0'\n",
    "import axios from 'npm:axios@0.21.1'\n",
    "\n",
    "\n",
    "let baseUrl = \"http://localhost:8000\"\n",
    "let res\n",
    "\n",
    "\n"
   ]
  },
  {
   "cell_type": "code",
   "execution_count": 3,
   "id": "b2079510",
   "metadata": {},
   "outputs": [
    {
     "name": "stdout",
     "output_type": "stream",
     "text": [
      "list: \n",
      " { count: 1000, next: null, previous: null, results: [] }\n"
     ]
    },
    {
     "ename": "Error",
     "evalue": "Request failed with status code 404",
     "output_type": "error",
     "traceback": [
      "Stack trace:",
      "Error: Request failed with status code 404",
      "    at createError (file:///Users/paribaker/Library/Caches/deno/npm/registry.npmjs.org/axios/0.21.1/lib/core/createError.js:16:15)",
      "    at settle (file:///Users/paribaker/Library/Caches/deno/npm/registry.npmjs.org/axios/0.21.1/lib/core/settle.js:17:12)",
      "    at IncomingMessageForClient.handleStreamEnd (file:///Users/paribaker/Library/Caches/deno/npm/registry.npmjs.org/axios/0.21.1/lib/adapters/http.js:260:11)",
      "    at IncomingMessageForClient.emit (ext:deno_node/_stream.mjs:1854:9)",
      "    at endReadableNT (ext:deno_node/_stream.mjs:3648:16)",
      "    at processTicksAndRejections (ext:deno_node/_next_tick.ts:33:15)",
      "    at runNextTicks (ext:deno_node/_next_tick.ts:71:3)",
      "    at eventLoopTick (ext:core/01_core.js:176:21)"
     ]
    }
   ],
   "source": [
    "\n",
    "\n",
    "\n",
    "\n",
    "const client = axios.create({\n",
    "    baseURL: baseUrl,\n",
    "})\n",
    "\n",
    "let userShape = {\n",
    "    id: z.string(),\n",
    "    email: z.string().email(),\n",
    "    firstName: z.string(),\n",
    "    lastName: z.string(),\n",
    "\n",
    "}\n",
    "\n",
    "let usersApi = createApi({\n",
    "    client,\n",
    "    baseUri: '/api/users/',\n",
    "    models: {\n",
    "        entity: userShape,\n",
    "    }\n",
    "})\n",
    "\n",
    "console.log('list: \\n',await usersApi.list())\n",
    "console.log('retrieve: \\n',await usersApi.retrieve('1eec99ef-541e-474b-b54b-8c4688982bb5'))\n",
    "\n"
   ]
  },
  {
   "cell_type": "markdown",
   "id": "f2fcb652",
   "metadata": {},
   "source": [
    "## Extending the capabilities while still using the defaults \n",
    "\n",
    "The above example is a basic implementation of an api we have only passed in the minimum required fields with this we have get and delete method access to our api with the pre-defined list & retrieve endpoints. \n",
    "\n",
    "Building off our basic example we will also enable access to the predefined create, update and delete endpoints, extending our get only api to work with post, patch and delete. To do this we only need to provide one more key to our models \n",
    "\n",
    "**models**: ...\n",
    "\n",
    "    - ***create***: we can reuse the same shape as the entity or create a new one"
   ]
  },
  {
   "cell_type": "code",
   "execution_count": 4,
   "id": "9dcff117",
   "metadata": {},
   "outputs": [
    {
     "name": "stdout",
     "output_type": "stream",
     "text": [
      "create: \n",
      " {\n",
      "  id: \"520eb9b9-9638-4185-951c-41f8f8acdcc3\",\n",
      "  email: \"some1@example.com\",\n",
      "  firstName: \"some\",\n",
      "  lastName: \"example\"\n",
      "}\n"
     ]
    },
    {
     "data": {
      "text/plain": [
       "Promise {\n",
       "  \u001b[36m<rejected>\u001b[39m TypeError: Cannot use 'in' operator to search for 'id' in id\n",
       "    at file:///Users/paribaker/Library/Caches/deno/npm/registry.npmjs.org/@thinknimble/tn-models/2.5.0/dist/index.js:584:16\n",
       "    at Generator.next (<anonymous>)\n",
       "    at file:///Users/paribaker/Library/Caches/deno/npm/registry.npmjs.org/@thinknimble/tn-models/2.5.0/dist/index.js:65:61\n",
       "    at new Promise (<anonymous>)\n",
       "    at __async (file:///Users/paribaker/Library/Caches/deno/npm/registry.npmjs.org/@thinknimble/tn-models/2.5.0/dist/index.js:49:10)\n",
       "    at updateBase (file:///Users/paribaker/Library/Caches/deno/npm/registry.npmjs.org/@thinknimble/tn-models/2.5.0/dist/index.js:579:30)\n",
       "    at file:///Users/paribaker/Library/Caches/deno/npm/registry.npmjs.org/@thinknimble/tn-models/2.5.0/dist/index.js:606:12\n",
       "    at Generator.next (<anonymous>)\n",
       "    at file:///Users/paribaker/Library/Caches/deno/npm/registry.npmjs.org/@thinknimble/tn-models/2.5.0/dist/index.js:65:61\n",
       "    at new Promise (<anonymous>)\n",
       "}"
      ]
     },
     "execution_count": 4,
     "metadata": {},
     "output_type": "execute_result"
    }
   ],
   "source": [
    "\n",
    "let userCreateShape = {\n",
    "    email: z.string().email(),\n",
    "    firstName: z.string(),\n",
    "    lastName: z.string(),\n",
    "\n",
    "}\n",
    "\n",
    "usersApi = createApi({\n",
    "    client,\n",
    "    baseUri: '/api/users/',\n",
    "    models: {\n",
    "        entity: userShape,\n",
    "        create: userCreateShape,\n",
    "    }\n",
    "})\n",
    "\n",
    "\n",
    "\n",
    "console.log(\"create: \\n\", await usersApi.create({email: \"some1@example.com\", firstName:\"some\", lastName:\"example\"}))\n",
    "// not implemented in mock server yet\n",
    "usersApi.update(\"id\", {email: \"\"})\n",
    "\n",
    "\n",
    "\n"
   ]
  },
  {
   "cell_type": "markdown",
   "id": "4baa4a6c",
   "metadata": {},
   "source": [
    "## Additional options with defaults \n",
    "\n",
    "Continuing just with our defaults we can also add filtering & pagination to our api \n",
    "\n",
    "First we defined extraFilters as part of our models(we can do this with an inline shape or by decalring it elsewhere)\n",
    "\n",
    "**As of now the fitlers can only be of string type** that means we have to convert different options to string like date, true, false, null, etc.\n",
    "\n",
    "Here are some examples of variations to these that we typically encounter\n",
    "\n",
    "- some_field__isnull > someField__isnull='True'\n",
    "- some_date > someDate=\"2024-12-2310:00:00.0000T\"\n",
    "\n",
    "\n"
   ]
  },
  {
   "cell_type": "code",
   "execution_count": 5,
   "id": "a66d5659",
   "metadata": {},
   "outputs": [
    {
     "name": "stdout",
     "output_type": "stream",
     "text": [
      "{\n",
      "  count: 1000,\n",
      "  next: null,\n",
      "  previous: null,\n",
      "  results: [\n",
      "    {\n",
      "      id: \"520eb9b9-9638-4185-951c-41f8f8acdcc3\",\n",
      "      email: \"some1@example.com\",\n",
      "      firstName: \"some\",\n",
      "      lastName: \"example\"\n",
      "    }\n",
      "  ]\n",
      "}\n"
     ]
    }
   ],
   "source": [
    "usersApi = createApi({\n",
    "    client,\n",
    "    baseUri: '/api/users/',\n",
    "    models: {\n",
    "        entity: userShape,\n",
    "        create: userShape,\n",
    "        extraFilters:{\n",
    "            search: z.string(),\n",
    "        }\n",
    "    }\n",
    "})\n",
    "// not implemented in server yet\n",
    "await usersApi.list({filters:{search: \"john\"}, pagination:{page:1}}).then(console.log).catch(console.error)\n",
    "\n"
   ]
  },
  {
   "cell_type": "markdown",
   "id": "8f8b6594",
   "metadata": {},
   "source": [
    "We can also add additional methods to our api that we can call with `customCalls` or with the short hand `csc`"
   ]
  },
  {
   "cell_type": "code",
   "execution_count": null,
   "id": "44512533",
   "metadata": {},
   "outputs": [],
   "source": [
    "const customCreate = createCustomServiceCall({\n",
    "    inputShape: createUserShape,\n",
    "    outputShape: userShape,\n",
    "  \n",
    "    cb: async ({ client, input, utils }) => {\n",
    "      const clean = utils.toApi(input)\n",
    "      const res = await client.post('/api/users/', clean)\n",
    "\n",
    "      return utils.fromApi(res.data)\n",
    "    },\n",
    "  })\n",
    "\n",
    "usersApi = createApi({\n",
    "    client,\n",
    "    baseUri: '/api/users/',\n",
    "    models: {\n",
    "        entity: userShape,\n",
    "        create: userShape,\n",
    "        extraFilters:{\n",
    "            search: z.string(),\n",
    "        }\n",
    "    },\n",
    "    customCalls:{\n",
    "      customCreate\n",
    "    }\n",
    "})\n",
    "// not implemented in server yet\n",
    "await usersApi.csc.customCreate({}).then(console.log).catch(console.error)\n",
    "\n"
   ]
  }
 ],
 "metadata": {
  "kernelspec": {
   "display_name": "Deno",
   "language": "typescript",
   "name": "deno"
  },
  "language_info": {
   "file_extension": ".ts",
   "mimetype": "text/x.typescript",
   "name": "typescript",
   "nb_converter": "script",
   "pygments_lexer": "typescript",
   "version": "5.3.3"
  }
 },
 "nbformat": 4,
 "nbformat_minor": 5
}
